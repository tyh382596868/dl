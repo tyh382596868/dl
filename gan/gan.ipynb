{
 "cells": [
  {
   "cell_type": "markdown",
   "id": "e61d8007-8ead-467e-8417-0d599186457d",
   "metadata": {},
   "source": []
  },
  {
   "cell_type": "code",
   "execution_count": 10,
   "id": "e9e2458f-9fab-466d-8f16-3b1b1b220602",
   "metadata": {},
   "outputs": [],
   "source": [
    "import torch\n",
    "import torch.nn as nn\n",
    "import torch.optim as optim\n",
    "import torchvision\n",
    "import torchvision.datasets as datasets\n",
    "from torch.utils.data import DataLoader\n",
    "import torchvision.transforms as transforms\n",
    "from torch.utils.tensorboard import SummaryWriter\n",
    "# 日志模块\n",
    "import logging\n",
    "import traceback\n"
   ]
  },
  {
   "cell_type": "code",
   "execution_count": 11,
   "id": "ee4e1542-da5c-4227-81f1-9d028a51262d",
   "metadata": {},
   "outputs": [
    {
     "data": {
      "text/plain": [
       "'\\nQuestions：\\n    1.类的继承？父类初始化？是什么，怎么做。\\n    2.LeakyReLU是什么？\\nTips：\\n    1.shift+tab 查看函数或方法的参数以及使用情况\\n'"
      ]
     },
     "execution_count": 11,
     "metadata": {},
     "output_type": "execute_result"
    }
   ],
   "source": [
    "#define network\n",
    "\n",
    "##define discriminator\n",
    "class Discriminator(nn.Module):#??\n",
    "    def __init__(self,img_dim):#??\n",
    "        super().__init__()#??\n",
    "        self.disc = nn.Sequential(\n",
    "            nn.Linear(img_dim,128),\n",
    "            nn.LeakyReLU(0.1),#??\n",
    "            nn.Linear(128,1),\n",
    "            nn.Sigmoid(),\n",
    "        )\n",
    "    \n",
    "    def forward(self,x):\n",
    "        return self.disc(x)\n",
    "    \n",
    "##define generator\n",
    "class Generator(nn.Module):\n",
    "    def __init__(self,z_dim,img_dim):\n",
    "        super().__init__()\n",
    "        self.gen = nn.Sequential(\n",
    "            nn.Linear(z_dim,256),\n",
    "            nn.LeakyReLU(0.1),\n",
    "            nn.Linear(256,img_dim),\n",
    "            nn.Tanh(),\n",
    "        )\n",
    "        \n",
    "    def forward(self,x):\n",
    "        return self.gen(x)\n",
    "    \n",
    "\"\"\"\n",
    "Questions：\n",
    "    1.类的继承？父类初始化？是什么，怎么做。\n",
    "    2.LeakyReLU是什么？\n",
    "Tips：\n",
    "    1.shift+tab 查看函数或方法的参数以及使用情况\n",
    "\"\"\"\n"
   ]
  },
  {
   "cell_type": "code",
   "execution_count": null,
   "id": "d451cb5d-c92d-4c40-95e2-fb4e02612f2e",
   "metadata": {},
   "outputs": [
    {
     "name": "stdout",
     "output_type": "stream",
     "text": [
      "Downloading http://yann.lecun.com/exdb/mnist/train-images-idx3-ubyte.gz\n"
     ]
    }
   ],
   "source": [
    "logging.basicConfig(\n",
    "    level=logging.INFO,  \n",
    "    format='%(asctime)s %(name)s [%(pathname)s line:%(lineno)d] %(levelname)s %(message)s]', \n",
    "    datefmt='%Y-%m-%d %H:%M:%S',   \n",
    "    filename='demo.log') \n",
    "\n",
    "\n",
    "try:\n",
    "    # Huperparameters etc.\n",
    "    devive = \"cuda\" if torch.cuda.is_available() else \"cpu\"\n",
    "\n",
    "    lr = 3e-4\n",
    "    batch_size = 32\n",
    "    epochs = 50\n",
    "\n",
    "    z_dim = 64\n",
    "    img_dim = 28 * 28 *1\n",
    "\n",
    "\n",
    "    disc = Discriminator(img_dim).to(devive)\n",
    "    gen = Generator(z_dim,img_dim).to(devive)\n",
    "    fixed_noise = torch.randn(batch_size,z_dim)\n",
    "    trans = transforms.Compose(\n",
    "        [transforms.ToTensor(),\n",
    "         transforms.Normalize((0.1307,),(0.3801,))]\n",
    "    )\n",
    "    datasets = datasets.MNIST(root=\"/mnt/petrelfs/share_data/zhaobin/tyh/\",transform=trans,download=True)\n",
    "    loader = DataLoader(datasets,batch_size=batch_size,shuffer=True)\n",
    "    opt_disc = optim.Adam(disc.parameters(),lr=lr)\n",
    "    opt_gen = optim.Adam(gen.parameters(),lr=lr)\n",
    "    criterion = nn.BCELoss()\n",
    "    writer_fake = SummaryWriter(f\"./results/Gan.MNIST/fake/\")\n",
    "    writer_real = SummaryWriter(f\"./results/Gan.MNIST/real/\")\n",
    "    step = 0\n",
    "except Exception as e:\n",
    "    logging.error(\"Huperparameters部分抛错：\")\n",
    "    logging.error(e)\n",
    "    logging.error(\"\\n\" + traceback.format_exc())\n"
   ]
  },
  {
   "cell_type": "code",
   "execution_count": null,
   "id": "8bcc2c14-17f0-4e48-918c-449d2a8ba03d",
   "metadata": {},
   "outputs": [],
   "source": []
  }
 ],
 "metadata": {
  "kernelspec": {
   "display_name": "ldm",
   "language": "python",
   "name": "ldm"
  },
  "language_info": {
   "codemirror_mode": {
    "name": "ipython",
    "version": 3
   },
   "file_extension": ".py",
   "mimetype": "text/x-python",
   "name": "python",
   "nbconvert_exporter": "python",
   "pygments_lexer": "ipython3",
   "version": "3.8.5"
  }
 },
 "nbformat": 4,
 "nbformat_minor": 5
}
